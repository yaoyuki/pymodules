{
 "cells": [
  {
   "cell_type": "code",
   "execution_count": 1,
   "metadata": {},
   "outputs": [
    {
     "name": "stderr",
     "output_type": "stream",
     "text": [
      "/opt/local/Library/Frameworks/Python.framework/Versions/3.6/lib/python3.6/site-packages/numba/errors.py:102: UserWarning: Insufficiently recent colorama version found. Numba requires colorama >= 0.3.9\n",
      "  warnings.warn(msg)\n"
     ]
    },
    {
     "data": {
      "text/html": [
       "<style>.container { width:100% !important; }</style>"
      ],
      "text/plain": [
       "<IPython.core.display.HTML object>"
      ]
     },
     "metadata": {},
     "output_type": "display_data"
    }
   ],
   "source": [
    "%matplotlib inline\n",
    "import matplotlib as mpl\n",
    "mpl.rc(\"savefig\",dpi=100)\n",
    "from matplotlib import pyplot as plt\n",
    "\n",
    "import numpy as np\n",
    "#from numpy import exp, log\n",
    "np.set_printoptions(precision=3, linewidth = 170)\n",
    "\n",
    "import numba as nb\n",
    "###usage\n",
    "###@nb.jit(nopython = True)\n",
    "\n",
    "import time\n",
    "\n",
    "from scipy.optimize import fminbound\n",
    "\n",
    "#my library\n",
    "# from FEM_2D import fem2deval_mesh, fem2d_peval\n",
    "\n",
    "#display options\n",
    "#jupyter\n",
    "from IPython.core.display import display, HTML\n",
    "display(HTML(\"<style>.container { width:100% !important; }</style>\"))"
   ]
  },
  {
   "cell_type": "code",
   "execution_count": 2,
   "metadata": {},
   "outputs": [],
   "source": [
    "@nb.jit(nopython = True)\n",
    "def shft(a, b, c, d):\n",
    "    a=b\n",
    "    b=c\n",
    "    c=d"
   ]
  },
  {
   "cell_type": "code",
   "execution_count": 3,
   "metadata": {},
   "outputs": [],
   "source": [
    "a = 1.\n",
    "b = 2.\n",
    "c = 3.\n",
    "d = 4."
   ]
  },
  {
   "cell_type": "code",
   "execution_count": null,
   "metadata": {},
   "outputs": [],
   "source": []
  },
  {
   "cell_type": "code",
   "execution_count": 4,
   "metadata": {},
   "outputs": [],
   "source": [
    "epsilon = np.finfo(float).eps\n",
    "def brent(ax, bx, cx, func, tol=1.0e-8, itmax=500):\n",
    "    \n",
    "    #parameters\n",
    "    CGOLD=0.3819660\n",
    "    ZEPS=1.0e-3*epsilon\n",
    "    #*np.finfo(float).eps\n",
    "    \n",
    "    brent = 1.0e20\n",
    "    xmin = 1.0e20\n",
    "    \n",
    "    a=min(ax,cx)\n",
    "    b=max(ax,cx)\n",
    "    v=bx\n",
    "    w=v\n",
    "    x=v\n",
    "    e=0.0 \n",
    "    fx=func(x) \n",
    "    fv=fx\n",
    "    fw=fx\n",
    "    \n",
    "    d = 0.0\n",
    "    \n",
    "    it = 0\n",
    "    for it in range(itmax):\n",
    "        \n",
    "        xm=0.5*(a+b)\n",
    "        tol1=tol*abs(x)+ZEPS\n",
    "        tol2=2.0*tol1\n",
    "        if (abs(x-xm) <= (tol2-0.5*(b-a))):\n",
    "            xmin=x\n",
    "            brent=fx\n",
    "            return xmin, brent\n",
    "        \n",
    "        if (abs(e) > tol1):\n",
    "            r=(x-w)*(fx-fv)\n",
    "            q=(x-v)*(fx-fw)\n",
    "            p=(x-v)*q-(x-w)*r\n",
    "            q=2.0*(q-r)\n",
    "        \n",
    "            if (q > 0.0): \n",
    "                p=-p\n",
    "            \n",
    "            q=abs(q)\n",
    "            etemp=e\n",
    "            e=d\n",
    "            \n",
    "            if abs(p) >= abs(0.5*q*etemp) or  p <= q*(a-x) or p >= q*(b-x):\n",
    "\n",
    "                #e=merge(a-x,b-x, x >= xm )\n",
    "                if x >= xm:\n",
    "                    e = a-x\n",
    "                else:\n",
    "                    e = b-x\n",
    "                d=CGOLD*e\n",
    "                \n",
    "            else:\n",
    "                d=p/q\n",
    "                u=x+d\n",
    "                \n",
    "                if (u-a < tol2 or b-u < tol2): \n",
    "                    d= abs(tol1)*np.sign(xm - x)  #sign(tol1,xm-x)\n",
    "\n",
    "        else:\n",
    "            \n",
    "            if x >= xm:\n",
    "                e = a-x\n",
    "            else:\n",
    "                e = b-x\n",
    "\n",
    "            d=CGOLD*e\n",
    "        \n",
    "        u = 0.  #merge(x+d,x+sign(tol1,d), abs(d) >= tol1 )\n",
    "        if abs(d) >= tol1:\n",
    "            u = x+d\n",
    "        else:\n",
    "            u = x+abs(tol1)*np.sign(d)\n",
    "        \n",
    "        fu = func(u)\n",
    "        \n",
    "        if (fu <= fx):\n",
    "            if (u >= x):\n",
    "                a=x\n",
    "            else:\n",
    "                b=x\n",
    "                \n",
    "            #shft(v,w,x,u)\n",
    "            v = w\n",
    "            w = x\n",
    "            x = u\n",
    "            #shft(fv,fw,fx,fu)\n",
    "            fv = fw\n",
    "            fw = fx\n",
    "            fx = fu\n",
    "            \n",
    "            \n",
    "        else:\n",
    "            if (u < x):\n",
    "                a=u\n",
    "            else:\n",
    "                b=u\n",
    "\n",
    "            if fu <= fw or w == x:\n",
    "                v=w\n",
    "                fv=fw\n",
    "                w=u\n",
    "                fw=fu\n",
    "\n",
    "            elif fu <= fv or v == x or v == w:\n",
    "                v=u\n",
    "                fv=fu\n",
    "                \n",
    "    if it == itmax-1:\n",
    "        print('brent: exceed maximum iterations')\n",
    "\n",
    "    return x, fx\n",
    "    \n",
    "    \n",
    "#     return xmin, brent"
   ]
  },
  {
   "cell_type": "code",
   "execution_count": 5,
   "metadata": {},
   "outputs": [],
   "source": [
    "@nb.jit(nopython = True)\n",
    "def obj(x):\n",
    "    return np.sin(x)"
   ]
  },
  {
   "cell_type": "code",
   "execution_count": 6,
   "metadata": {},
   "outputs": [],
   "source": [
    "@nb.jit(nopython = True)\n",
    "def brent_numba(ax, bx, cx, tol=1.0e-8, itmax=500):\n",
    "    \n",
    "    ###put your objective function here\n",
    "    func = obj\n",
    "    \n",
    "    #parameters\n",
    "    CGOLD=0.3819660\n",
    "    ZEPS=1.0e-3*epsilon\n",
    "    #*np.finfo(float).eps\n",
    "    \n",
    "    brent = 1.0e20\n",
    "    xmin = 1.0e20\n",
    "    \n",
    "    a=min(ax,cx)\n",
    "    b=max(ax,cx)\n",
    "    v=bx\n",
    "    w=v\n",
    "    x=v\n",
    "    e=0.0 \n",
    "    fx=func(x) \n",
    "    fv=fx\n",
    "    fw=fx\n",
    "    \n",
    "    d = 0.0\n",
    "    \n",
    "    it = 0\n",
    "    for it in range(itmax):\n",
    "        \n",
    "        xm=0.5*(a+b)\n",
    "        tol1=tol*abs(x)+ZEPS\n",
    "        tol2=2.0*tol1\n",
    "        if (abs(x-xm) <= (tol2-0.5*(b-a))):\n",
    "            xmin=x\n",
    "            brent=fx\n",
    "            return xmin, brent\n",
    "        \n",
    "        if (abs(e) > tol1):\n",
    "            r=(x-w)*(fx-fv)\n",
    "            q=(x-v)*(fx-fw)\n",
    "            p=(x-v)*q-(x-w)*r\n",
    "            q=2.0*(q-r)\n",
    "        \n",
    "            if (q > 0.0): \n",
    "                p=-p\n",
    "            \n",
    "            q=abs(q)\n",
    "            etemp=e\n",
    "            e=d\n",
    "            \n",
    "            if abs(p) >= abs(0.5*q*etemp) or  p <= q*(a-x) or p >= q*(b-x):\n",
    "\n",
    "                #e=merge(a-x,b-x, x >= xm )\n",
    "                if x >= xm:\n",
    "                    e = a-x\n",
    "                else:\n",
    "                    e = b-x\n",
    "                d=CGOLD*e\n",
    "                \n",
    "            else:\n",
    "                d=p/q\n",
    "                u=x+d\n",
    "                \n",
    "                if (u-a < tol2 or b-u < tol2): \n",
    "                    d= abs(tol1)*np.sign(xm - x)  #sign(tol1,xm-x)\n",
    "\n",
    "        else:\n",
    "            \n",
    "            if x >= xm:\n",
    "                e = a-x\n",
    "            else:\n",
    "                e = b-x\n",
    "\n",
    "            d=CGOLD*e\n",
    "        \n",
    "        u = 0.  #merge(x+d,x+sign(tol1,d), abs(d) >= tol1 )\n",
    "        if abs(d) >= tol1:\n",
    "            u = x+d\n",
    "        else:\n",
    "            u = x+abs(tol1)*np.sign(d)\n",
    "        \n",
    "        ###put your objective function also here###\n",
    "        fu = func(u)\n",
    "        \n",
    "        if (fu <= fx):\n",
    "            if (u >= x):\n",
    "                a=x\n",
    "            else:\n",
    "                b=x\n",
    "                \n",
    "            #shft(v,w,x,u)\n",
    "            v = w\n",
    "            w = x\n",
    "            x = u\n",
    "            #shft(fv,fw,fx,fu)\n",
    "            fv = fw\n",
    "            fw = fx\n",
    "            fx = fu\n",
    "            \n",
    "            \n",
    "        else:\n",
    "            if (u < x):\n",
    "                a=u\n",
    "            else:\n",
    "                b=u\n",
    "\n",
    "            if fu <= fw or w == x:\n",
    "                v=w\n",
    "                fv=fw\n",
    "                w=u\n",
    "                fw=fu\n",
    "\n",
    "            elif fu <= fv or v == x or v == w:\n",
    "                v=u\n",
    "                fv=fu\n",
    "                \n",
    "    if it == itmax-1:\n",
    "        print('brent: exceed maximum iterations')\n",
    "\n",
    "    return x, fx\n",
    "    \n",
    "    \n",
    "#     return xmin, brent"
   ]
  },
  {
   "cell_type": "code",
   "execution_count": 7,
   "metadata": {},
   "outputs": [
    {
     "data": {
      "text/plain": [
       "[<matplotlib.lines.Line2D at 0x114a220b8>]"
      ]
     },
     "execution_count": 7,
     "metadata": {},
     "output_type": "execute_result"
    },
    {
     "data": {
      "image/png": "[encoded data removed]",
      "text/plain": [
       "<Figure size 432x288 with 1 Axes>"
      ]
     },
     "metadata": {},
     "output_type": "display_data"
    }
   ],
   "source": [
    "grid = np.linspace(0., np.pi/4., 1000)\n",
    "plt.plot(grid, np.sin(grid))"
   ]
  },
  {
   "cell_type": "code",
   "execution_count": 11,
   "metadata": {},
   "outputs": [
    {
     "data": {
      "text/plain": [
       "(4.179492055764245e-19, 4.179492055764245e-19)"
      ]
     },
     "execution_count": 11,
     "metadata": {},
     "output_type": "execute_result"
    }
   ],
   "source": [
    "brent_numba(0., np.pi/8.,np.pi/4.)"
   ]
  },
  {
   "cell_type": "code",
   "execution_count": 15,
   "metadata": {},
   "outputs": [
    {
     "data": {
      "text/plain": [
       "3.1415926535897931"
      ]
     },
     "execution_count": 15,
     "metadata": {},
     "output_type": "execute_result"
    }
   ],
   "source": [
    "fminbound(np.cos, 0.,  2.*np.pi)"
   ]
  },
  {
   "cell_type": "code",
   "execution_count": 50,
   "metadata": {},
   "outputs": [
    {
     "data": {
      "text/plain": [
       "4.2417341983613961e-06"
      ]
     },
     "execution_count": 50,
     "metadata": {},
     "output_type": "execute_result"
    }
   ],
   "source": [
    "fminbound(np.sin, 0., np.pi/4.)"
   ]
  },
  {
   "cell_type": "code",
   "execution_count": 10,
   "metadata": {},
   "outputs": [
    {
     "data": {
      "text/plain": [
       "<function __main__.brent(ax, bx, cx, func, tol=1e-08, itmax=500)>"
      ]
     },
     "execution_count": 10,
     "metadata": {},
     "output_type": "execute_result"
    }
   ],
   "source": []
  },
  {
   "cell_type": "code",
   "execution_count": 13,
   "metadata": {},
   "outputs": [],
   "source": [
    "@nb.jit(nopython = True)\n",
    "def brent_nb_func(func, ax, bx, cx, tol=1.0e-8, itmax=500):\n",
    "    \n",
    "    ###put your objective function here\n",
    "    # func = obj\n",
    "    \n",
    "    #parameters\n",
    "    CGOLD=0.3819660\n",
    "    ZEPS=1.0e-3*epsilon\n",
    "    #*np.finfo(float).eps\n",
    "    \n",
    "    brent = 1.0e20\n",
    "    xmin = 1.0e20\n",
    "    \n",
    "    a=min(ax,cx)\n",
    "    b=max(ax,cx)\n",
    "    v=bx\n",
    "    w=v\n",
    "    x=v\n",
    "    e=0.0 \n",
    "    fx=func(x) \n",
    "    fv=fx\n",
    "    fw=fx\n",
    "    \n",
    "    d = 0.0\n",
    "    \n",
    "    it = 0\n",
    "    for it in range(itmax):\n",
    "        \n",
    "        xm=0.5*(a+b)\n",
    "        tol1=tol*abs(x)+ZEPS\n",
    "        tol2=2.0*tol1\n",
    "        if (abs(x-xm) <= (tol2-0.5*(b-a))):\n",
    "            xmin=x\n",
    "            brent=fx\n",
    "            return xmin, brent\n",
    "        \n",
    "        if (abs(e) > tol1):\n",
    "            r=(x-w)*(fx-fv)\n",
    "            q=(x-v)*(fx-fw)\n",
    "            p=(x-v)*q-(x-w)*r\n",
    "            q=2.0*(q-r)\n",
    "        \n",
    "            if (q > 0.0): \n",
    "                p=-p\n",
    "            \n",
    "            q=abs(q)\n",
    "            etemp=e\n",
    "            e=d\n",
    "            \n",
    "            if abs(p) >= abs(0.5*q*etemp) or  p <= q*(a-x) or p >= q*(b-x):\n",
    "\n",
    "                #e=merge(a-x,b-x, x >= xm )\n",
    "                if x >= xm:\n",
    "                    e = a-x\n",
    "                else:\n",
    "                    e = b-x\n",
    "                d=CGOLD*e\n",
    "                \n",
    "            else:\n",
    "                d=p/q\n",
    "                u=x+d\n",
    "                \n",
    "                if (u-a < tol2 or b-u < tol2): \n",
    "                    d= abs(tol1)*np.sign(xm - x)  #sign(tol1,xm-x)\n",
    "\n",
    "        else:\n",
    "            \n",
    "            if x >= xm:\n",
    "                e = a-x\n",
    "            else:\n",
    "                e = b-x\n",
    "\n",
    "            d=CGOLD*e\n",
    "        \n",
    "        u = 0.  #merge(x+d,x+sign(tol1,d), abs(d) >= tol1 )\n",
    "        if abs(d) >= tol1:\n",
    "            u = x+d\n",
    "        else:\n",
    "            u = x+abs(tol1)*np.sign(d)\n",
    "        \n",
    "        ###put your objective function also here###\n",
    "        fu = func(u)\n",
    "        \n",
    "        if (fu <= fx):\n",
    "            if (u >= x):\n",
    "                a=x\n",
    "            else:\n",
    "                b=x\n",
    "                \n",
    "            #shft(v,w,x,u)\n",
    "            v = w\n",
    "            w = x\n",
    "            x = u\n",
    "            #shft(fv,fw,fx,fu)\n",
    "            fv = fw\n",
    "            fw = fx\n",
    "            fx = fu\n",
    "            \n",
    "            \n",
    "        else:\n",
    "            if (u < x):\n",
    "                a=u\n",
    "            else:\n",
    "                b=u\n",
    "\n",
    "            if fu <= fw or w == x:\n",
    "                v=w\n",
    "                fv=fw\n",
    "                w=u\n",
    "                fw=fu\n",
    "\n",
    "            elif fu <= fv or v == x or v == w:\n",
    "                v=u\n",
    "                fv=fu\n",
    "                \n",
    "    if it == itmax-1:\n",
    "        print('brent: exceed maximum iterations')\n",
    "\n",
    "    return x, fx\n",
    "    \n",
    "    \n",
    "#     return xmin, brent"
   ]
  },
  {
   "cell_type": "code",
   "execution_count": 16,
   "metadata": {},
   "outputs": [
    {
     "name": "stdout",
     "output_type": "stream",
     "text": [
      "1.65 µs ± 18 ns per loop (mean ± std. dev. of 7 runs, 1000000 loops each)\n"
     ]
    }
   ],
   "source": [
    "%timeit brent_numba(0., np.pi/8.,np.pi/4.)"
   ]
  },
  {
   "cell_type": "code",
   "execution_count": 17,
   "metadata": {},
   "outputs": [
    {
     "name": "stdout",
     "output_type": "stream",
     "text": [
      "56.2 µs ± 1.01 µs per loop (mean ± std. dev. of 7 runs, 10000 loops each)\n"
     ]
    }
   ],
   "source": [
    "%timeit brent_nb_func(obj, 0., np.pi/8.,np.pi/4.)"
   ]
  },
  {
   "cell_type": "code",
   "execution_count": null,
   "metadata": {},
   "outputs": [],
   "source": []
  }
 ],
 "metadata": {
  "kernelspec": {
   "display_name": "Python 3",
   "language": "python",
   "name": "python3"
  },
  "language_info": {
   "codemirror_mode": {
    "name": "ipython",
    "version": 3
   },
   "file_extension": ".py",
   "mimetype": "text/x-python",
   "name": "python",
   "nbconvert_exporter": "python",
   "pygments_lexer": "ipython3",
   "version": "3.6.6"
  }
 },
 "nbformat": 4,
 "nbformat_minor": 2
}
