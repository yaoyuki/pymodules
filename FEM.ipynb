{
 "cells": [
  {
   "cell_type": "code",
   "execution_count": 2,
   "metadata": {},
   "outputs": [
    {
     "name": "stderr",
     "output_type": "stream",
     "text": [
      "/opt/local/Library/Frameworks/Python.framework/Versions/3.6/lib/python3.6/site-packages/numba/errors.py:102: UserWarning: Insufficiently recent colorama version found. Numba requires colorama >= 0.3.9\n",
      "  warnings.warn(msg)\n"
     ]
    }
   ],
   "source": [
    "import numpy as np\n",
    "import numba as nb\n",
    "\n",
    "#my library\n",
    "from orderedTableSearch import locate_grid, locate_on_grids, locate"
   ]
  },
  {
   "cell_type": "code",
   "execution_count": 3,
   "metadata": {},
   "outputs": [],
   "source": [
    "@nb.jit(nopython = True)\n",
    "def fem_elmeval(x, x0, x1, para0, para1):\n",
    "    diff = x1 - x0\n",
    "    bs0 = (x1 - x)/diff\n",
    "    bs1 = (x - x0)/diff\n",
    "    #here I allow extrapolation\n",
    "    #if bs0 >= 0.0 and bs1 >= 0.0:\n",
    "    return para0*bs0 + para1*bs1\n",
    "    #else:\n",
    "    #    return 0.0\n",
    "    \n",
    "@nb.jit(nopython=True)\n",
    "def fem_peval(xval, nodes, para):\n",
    "    ie = locate(xval, nodes)\n",
    "    return fem_elmeval(xval, nodes[ie], nodes[ie+1], para[ie], para[ie+1])    \n",
    "    \n",
    "@nb.jit(nopython = True)\n",
    "def fem_grideval(xvals, nodes, para):\n",
    "            \n",
    "    N = len(nodes)\n",
    "    M = len(xvals)\n",
    "    if N != len(para):\n",
    "        print('error: N != len(para)')\n",
    "        return None\n",
    "\n",
    "\n",
    "    #xelements = locate_grid(xvals, nodes)\n",
    "    xelements = locate_on_grids(xvals, nodes)\n",
    "    ans = np.zeros(M)\n",
    "    for ix,x in enumerate(xvals):\n",
    "        ie = xelements[ix]\n",
    "\n",
    "        ans[ix] = fem_elmeval(x, nodes[ie], nodes[ie+1], para[ie], para[ie+1])\n",
    "\n",
    "    return ans\n",
    "\n",
    "#@nb.generated_jit(nopython=True)\n",
    "#def femeval(xvals, nodes, para):\n",
    "#    #I should prohibit extrapolation\n",
    "#    if not hasattr(xvals, \"__len__\"): #if xvals is scalar\n",
    "#        ie = locate_grid(xvals, nodes)\n",
    "#        \n",
    "#        return fem_elmeval(xvals, nodes[ie], nodes[ie+1], para[ie], para[ie+1])\n",
    "#    else: #if xvals is actually array-like\n",
    "#            \n",
    "#        return fem_grideval(xvals, nodes, para)\n",
    "\n",
    "@nb.generated_jit(nopython=True)\n",
    "def femeval(xvals, nodes, para):\n",
    "\n",
    "    if isinstance(xvals, nb.types.Float) or isinstance(xvals, nb.types.Integer):\n",
    "        \n",
    "        return lambda xvals, nodes, para: fem_peval(xvals, nodes, para)\n",
    "\n",
    "    else: #if xvals is actually array-like\n",
    "            \n",
    "        return lambda xvals, nodes, para: fem_grideval(xvals, nodes, para)\n",
    "    \n"
   ]
  },
  {
   "cell_type": "code",
   "execution_count": 4,
   "metadata": {},
   "outputs": [],
   "source": [
    "def dy_femeval(x, xnodes):\n",
    "    \"\"\"\n",
    "    \n",
    "    \n",
    "    \"\"\"\n",
    "    \n",
    "    N = len(xnodes)\n",
    "    \n",
    "  \n",
    "    ans = np.zeros(N)\n",
    "    \n",
    "    ie = locate(x, xnodes)\n",
    "    \n",
    "    #need to add some check\n",
    "    x0 = xnodes[ie]\n",
    "    x1 = xnodes[ie+1]\n",
    "    diff = x1 - x0\n",
    "    \n",
    "    ans[ie] = (x1 - x)/diff\n",
    "    ans[ie+1] = (x - x0)/diff\n",
    "    \n",
    "    return ans\n",
    "    \n",
    "    \n",
    "    "
   ]
  },
  {
   "cell_type": "code",
   "execution_count": 5,
   "metadata": {},
   "outputs": [
    {
     "name": "stdout",
     "output_type": "stream",
     "text": [
      " 2.004849910736084 seconds\n"
     ]
    },
    {
     "data": {
      "image/png": "[encoded data removed]",
      "text/plain": [
       "<Figure size 432x288 with 1 Axes>"
      ]
     },
     "metadata": {},
     "output_type": "display_data"
    }
   ],
   "source": [
    "# %matplotlib inline\n",
    "# import matplotlib as mpl\n",
    "# mpl.rc(\"savefig\",dpi=100)\n",
    "# from matplotlib import pyplot as plt\n",
    "\n",
    "from scipy import linalg as LA\n",
    "from scipy.optimize import fsolve\n",
    "from numpy.polynomial.legendre import leggauss\n",
    "#import numdifftools as nd\n",
    "\n",
    "import time\n",
    "\n",
    "#display options\n",
    "np.set_printoptions(precision=3, linewidth = 120)\n",
    "\n",
    "t1 = time.time()\n",
    "\n",
    "xvals = np.linspace(0,10, 100000)\n",
    "#nodes = [0,1,3,6,10]\n",
    "nodes = [0, 1, 3, 6, 10]\n",
    "plt.figure()\n",
    "plt.plot(xvals, femeval(xvals, nodes, [1, 0, 0, 0, 0]), label = r'$\\psi_1(x)$')\n",
    "plt.plot(xvals, femeval(xvals, nodes, [0, 1, 0, 0, 0]), label = r'$\\psi_2(x)$')\n",
    "plt.plot(xvals, femeval(xvals, nodes, [0, 0, 1, 0, 0]), label = r'$\\psi_3(x)$')\n",
    "plt.plot(xvals, femeval(xvals, nodes, [0, 0, 0, 1, 0]), label = r'$\\psi_4(x)$')\n",
    "plt.plot(xvals, femeval(xvals, nodes, [0, 0, 0, 0, 1]), label = r'$\\psi_5(x)$')\n",
    "plt.legend(loc = 1)\n",
    "plt.savefig('basis_functions.eps', bbox_inches='tight')\n",
    "\n",
    "t2 = time.time()\n",
    "\n",
    "print(' {} seconds'.format(t2 - t1))#most of the time are for plotting"
   ]
  },
  {
   "cell_type": "code",
   "execution_count": null,
   "metadata": {},
   "outputs": [],
   "source": []
  },
  {
   "cell_type": "code",
   "execution_count": 6,
   "metadata": {},
   "outputs": [
    {
     "data": {
      "text/plain": [
       "[<matplotlib.lines.Line2D at 0x113b85780>]"
      ]
     },
     "execution_count": 6,
     "metadata": {},
     "output_type": "execute_result"
    },
    {
     "data": {
      "image/png": "[encoded data removed]",
      "text/plain": [
       "<Figure size 432x288 with 1 Axes>"
      ]
     },
     "metadata": {},
     "output_type": "display_data"
    }
   ],
   "source": [
    "xvals = np.linspace(-1,3, 1000)\n",
    "#nodes = [0,1,3,6,10]\n",
    "nodes = [0, 1]\n",
    "plt.plot(xvals, femeval(xvals, nodes, [1, 0]))\n",
    "#plt.xlim([0,1])\n",
    "#plt.ylim([0,1])"
   ]
  },
  {
   "cell_type": "markdown",
   "metadata": {},
   "source": [
    "## Test code\n",
    "Solve a differential problem\n",
    "$$\n",
    "d(x) + d^\\prime(x) = 0\n",
    "$$\n",
    "with a boundary condition $d(0) = 1$"
   ]
  },
  {
   "cell_type": "code",
   "execution_count": 7,
   "metadata": {},
   "outputs": [],
   "source": [
    "from numpy.polynomial.legendre import leggauss\n",
    "\n",
    "#@nb.jit#(nopython = True)\n",
    "def obj(nodes, para):\n",
    "    \n",
    "    #note: you cannot import leggauss inside the jit\n",
    "    num_gl = 3\n",
    "    glab, glwgt = leggauss(num_gl)\n",
    "    \n",
    "    N = len(nodes)\n",
    "    if N != len(para):\n",
    "        print('error:N!=len(para)')\n",
    "        return None\n",
    "    \n",
    "    ans = np.zeros(N)\n",
    "\n",
    "    for ie in range(N-1): #for each element\n",
    "\n",
    "        x1, x2 = nodes[[ie, ie+1]]\n",
    "        diff = (x2 - x1)\n",
    "\n",
    "        absa = (glab+1)*diff/2 + x1\n",
    "        wgt = diff/2*glwgt\n",
    "\n",
    "        for ix, x in enumerate(absa): #for abscissa\n",
    "        #for ix in range(len(absa)):\n",
    "            x = absa[ix]\n",
    "            bs1 = (x2 - x)/diff\n",
    "            bs2 = (x - x1)/diff\n",
    "            dbs1 = -1.0/diff\n",
    "            dbs2 = 1.0/diff\n",
    "\n",
    "            d = para[ie]*bs1 + para[ie+1]*bs2\n",
    "            dd = para[ie]*dbs1 + para[ie+1]*dbs2\n",
    "\n",
    "            res = d + dd\n",
    "            ans[ie] = ans[ie] + res*wgt[ix]*bs1\n",
    "            ans[ie+1] = ans[ie+1] + res*wgt[ix]*bs2\n",
    "        \n",
    "    return ans\n",
    "\n"
   ]
  },
  {
   "cell_type": "code",
   "execution_count": 8,
   "metadata": {},
   "outputs": [
    {
     "name": "stdout",
     "output_type": "stream",
     "text": [
      " 0.9357051849365234 seconds\n"
     ]
    }
   ],
   "source": [
    "nodes = np.array([0.0, 1.0, 3.0, 6.0])\n",
    "t1 = time.time()\n",
    "target = lambda x: obj(nodes, np.append([1], x))[1:]\n",
    "para1 = np.append([1.], fsolve(target, [0.5, 0.5, 0.5]))\n",
    "xvals = np.linspace(0.0, 6.0, 100)\n",
    "approx = femeval(xvals, nodes, para1)\n",
    "\n",
    "t2 = time.time()\n",
    "print(' {} seconds'.format(t2 - t1))"
   ]
  },
  {
   "cell_type": "code",
   "execution_count": 9,
   "metadata": {},
   "outputs": [
    {
     "data": {
      "text/plain": [
       "<matplotlib.legend.Legend at 0x1145ff400>"
      ]
     },
     "execution_count": 9,
     "metadata": {},
     "output_type": "execute_result"
    },
    {
     "data": {
      "image/png": "[encoded data removed]",
      "text/plain": [
       "<Figure size 432x288 with 1 Axes>"
      ]
     },
     "metadata": {},
     "output_type": "display_data"
    }
   ],
   "source": [
    "plt.plot(xvals, approx, label = 'FEM')\n",
    "plt.plot(xvals, np.exp(-xvals), label = r'$\\exp(-x)$')\n",
    "plt.plot(nodes, np.exp(-nodes), 'x',label = 'nodes')\n",
    "plt.legend(loc = 'best')"
   ]
  },
  {
   "cell_type": "code",
   "execution_count": 10,
   "metadata": {},
   "outputs": [
    {
     "data": {
      "text/plain": [
       "array([0., 1., 3., 6.])"
      ]
     },
     "execution_count": 10,
     "metadata": {},
     "output_type": "execute_result"
    }
   ],
   "source": [
    "nodes"
   ]
  },
  {
   "cell_type": "code",
   "execution_count": 11,
   "metadata": {},
   "outputs": [
    {
     "data": {
      "text/plain": [
       "array([ 0.   ,  0.   , -0.333,  1.333])"
      ]
     },
     "execution_count": 11,
     "metadata": {},
     "output_type": "execute_result"
    }
   ],
   "source": [
    "dy_femeval(7.0, nodes)"
   ]
  },
  {
   "cell_type": "code",
   "execution_count": 12,
   "metadata": {},
   "outputs": [
    {
     "data": {
      "text/plain": [
       "array([1.000e+00, 9.580e-01, 9.161e-01, 8.741e-01, 8.322e-01, 7.902e-01, 7.483e-01, 7.063e-01, 6.643e-01, 6.224e-01,\n",
       "       5.804e-01, 5.385e-01, 4.965e-01, 4.545e-01, 4.126e-01, 3.706e-01, 3.287e-01, 3.035e-01, 2.951e-01, 2.867e-01,\n",
       "       2.783e-01, 2.699e-01, 2.615e-01, 2.531e-01, 2.448e-01, 2.364e-01, 2.280e-01, 2.196e-01, 2.112e-01, 2.028e-01,\n",
       "       1.944e-01, 1.860e-01, 1.776e-01, 1.692e-01, 1.608e-01, 1.524e-01, 1.441e-01, 1.357e-01, 1.273e-01, 1.189e-01,\n",
       "       1.105e-01, 1.021e-01, 9.371e-02, 8.531e-02, 7.692e-02, 6.853e-02, 6.014e-02, 5.175e-02, 4.336e-02, 3.497e-02,\n",
       "       3.046e-02, 2.984e-02, 2.922e-02, 2.859e-02, 2.797e-02, 2.735e-02, 2.673e-02, 2.611e-02, 2.549e-02, 2.486e-02,\n",
       "       2.424e-02, 2.362e-02, 2.300e-02, 2.238e-02, 2.176e-02, 2.113e-02, 2.051e-02, 1.989e-02, 1.927e-02, 1.865e-02,\n",
       "       1.803e-02, 1.740e-02, 1.678e-02, 1.616e-02, 1.554e-02, 1.492e-02, 1.430e-02, 1.368e-02, 1.305e-02, 1.243e-02,\n",
       "       1.181e-02, 1.119e-02, 1.057e-02, 9.946e-03, 9.324e-03, 8.702e-03, 8.081e-03, 7.459e-03, 6.838e-03, 6.216e-03,\n",
       "       5.594e-03, 4.973e-03, 4.351e-03, 3.730e-03, 3.108e-03, 2.486e-03, 1.865e-03, 1.243e-03, 6.216e-04, 2.809e-18])"
      ]
     },
     "execution_count": 12,
     "metadata": {},
     "output_type": "execute_result"
    }
   ],
   "source": [
    "femeval(xvals, nodes, para1)"
   ]
  },
  {
   "cell_type": "code",
   "execution_count": null,
   "metadata": {
    "collapsed": true
   },
   "outputs": [],
   "source": []
  }
 ],
 "metadata": {
  "kernelspec": {
   "display_name": "Python 3",
   "language": "python",
   "name": "python3"
  },
  "language_info": {
   "codemirror_mode": {
    "name": "ipython",
    "version": 3
   },
   "file_extension": ".py",
   "mimetype": "text/x-python",
   "name": "python",
   "nbconvert_exporter": "python",
   "pygments_lexer": "ipython3",
   "version": "3.6.8"
  }
 },
 "nbformat": 4,
 "nbformat_minor": 1
}
