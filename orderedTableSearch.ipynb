{
 "cells": [
  {
   "cell_type": "code",
   "execution_count": 1,
   "metadata": {},
   "outputs": [
    {
     "name": "stderr",
     "output_type": "stream",
     "text": [
      "/opt/local/Library/Frameworks/Python.framework/Versions/3.6/lib/python3.6/site-packages/numba/errors.py:102: UserWarning: Insufficiently recent colorama version found. Numba requires colorama >= 0.3.9\n",
      "  warnings.warn(msg)\n"
     ]
    }
   ],
   "source": [
    "import numpy as np\n",
    "import numba as nb"
   ]
  },
  {
   "cell_type": "code",
   "execution_count": 2,
   "metadata": {},
   "outputs": [],
   "source": [
    "@nb.jit(nopython=True)\n",
    "def locate(x, grid, btm = 0, up = None):\n",
    "    if up is None:\n",
    "        up = len(grid)-1\n",
    "    \n",
    "    \"\"\"\n",
    "    from Numerical Repipes 2nd ed.\n",
    "    input\n",
    "    x: a value to be evaluated\n",
    "    grid: a monotonically ordered grid\n",
    "    \n",
    "    return grid number 0,1,....,len(grid) -2\n",
    "    \"\"\"\n",
    "    \n",
    "    N = len(grid)\n",
    "    \n",
    "    \n",
    "    \n",
    "    if grid[N-1] > grid[0]:\n",
    "        if x <= grid[0]:\n",
    "            return 0\n",
    "        elif x >= grid[N-1]:\n",
    "            return N-2\n",
    "    elif grid[N-1] < grid[0]:\n",
    "        if x <= grid[N-2]:\n",
    "            return N-2\n",
    "        elif x >= grid[0]:\n",
    "            return 0\n",
    "        \n",
    "    else:\n",
    "        print('error: grid[N-1] == grid[0]')\n",
    "    \n",
    "    #Golden search\n",
    "    mid = 0\n",
    "    while up - btm > 1: #if not done\n",
    "        mid = int((up+btm)/2) #math.floor? \n",
    "#         if (grid[N-1] > grid[0]) == (x > grid[mid]):\n",
    "        if (grid[N-1] > grid[0]) == (x > grid[mid]):\n",
    "            \n",
    "            btm = mid\n",
    "        else:\n",
    "            up = mid\n",
    "\n",
    "    if up - btm < 1: \n",
    "        print('locate, error: up - btm < 1, up = ', up, ', btm = ', btm, '.')\n",
    "\n",
    "    return btm   \n",
    "\n",
    "\n",
    "@nb.jit(nopython=True)\n",
    "def hunt(x, grid, init_btm):\n",
    "    N = len(grid)\n",
    "    ascnd = (grid[N-1] > grid[0])\n",
    "    btm = init_btm\n",
    "    up = 0#None does not work for numba\n",
    "    \n",
    "    if init_btm < 0 or init_btm > N-2:\n",
    "        return locate(x,grid)\n",
    "    else:\n",
    "        inc = 1 #increment\n",
    "        if (x > grid[btm]) is ascnd:\n",
    "            while True:\n",
    "                up = btm + inc\n",
    "                #print('up: ',up)\n",
    "                if up > N-2:\n",
    "                    up = N-1\n",
    "                    #print('up: ',up)\n",
    "                    break\n",
    "                elif (x > grid[up]) is ascnd:\n",
    "                    btm = up\n",
    "                    inc = inc + inc\n",
    "                else:\n",
    "                    break\n",
    "        else:\n",
    "            up = btm\n",
    "            #print('up: ',up)\n",
    "            while True:\n",
    "                btm = up - inc\n",
    "                #print('btm: ',btm)\n",
    "                if btm < 0:\n",
    "                    btm = 0\n",
    "                    #print('btm: ',btm)\n",
    "                    break\n",
    "                elif (x < grid[btm]) is ascnd:\n",
    "                    up = btm\n",
    "                    inc = inc + inc\n",
    "                    #print('up: ',up)\n",
    "                else:\n",
    "                    break\n",
    "        #print('btm: ',btm)\n",
    "        #print('up: ',up)        \n",
    "        return locate(x, grid, btm, up)\n",
    "    \n",
    "\n",
    "    \n",
    "#@nb.jit#(nopython=True)#hasattr is not compatible with numba\n",
    "\n",
    "#this should accept an array-like with len == 1\n",
    "@nb.jit(nopython=True)\n",
    "def locate_on_grids(xvals, grid, init_btm = 0):\n",
    "    M = len(xvals)\n",
    "    ans = np.zeros(M, dtype = np.int64)\n",
    "    ans[0]= hunt(xvals[0], grid, init_btm)\n",
    "\n",
    "    for ix in range(1,M):\n",
    "        ans[ix] = hunt(xvals[ix], grid, ans[ix-1])\n",
    "        #thiw was a typo. can't set btm = ans[ix-1]\n",
    "        #ans[ix] = locate(xvals[ix], grid, ans[ix-1])  #i donno why but it is faster\n",
    "\n",
    "    return ans\n",
    "\n",
    "@nb.generated_jit(nopython=True)\n",
    "def locate_grid(xvals, grid, init_btm = 0, return_nparray = False):\n",
    "    \n",
    "\n",
    "    if isinstance(xvals, nb.types.Float) or isinstance(xvals, nb.types.Integer) : #if xvals is scalar\n",
    "        #here, locate is converted into np.array\n",
    "        #if you need just an interger, use locate instead.\n",
    "        return lambda xvals, grid, init_btm, return_nparray: np.array(locate(xvals, grid))\n",
    "        \n",
    "        #if return_nparray is True:\n",
    "        #    return lambda xvals, grid, init_btm, return_nparray: np.array(locate(xvals, grid))\n",
    "        #else:\n",
    "        #    return lambda xvals, grid, init_btm, return_nparray: locate(xvals, grid)\n",
    "    \n",
    "    else: #arraylike #maybe I should check this is arraylike\n",
    "        return lambda xvals, grid, init_btm, return_nparray: locate_on_grids(xvals, grid, init_btm)\n"
   ]
  },
  {
   "cell_type": "code",
   "execution_count": 5,
   "metadata": {},
   "outputs": [
    {
     "name": "stdout",
     "output_type": "stream",
     "text": [
      " 7.152557373046875e-06 seconds\n",
      " 0.10769414901733398 seconds\n",
      " 0.11383700370788574 seconds\n",
      " 0.008481979370117188 seconds\n"
     ]
    }
   ],
   "source": [
    "if __name__ == '__main__':\n",
    "    \n",
    "    import time\n",
    "    \n",
    "    size = 100000\n",
    "    \n",
    "    bignodes = np.linspace(-10, 100, size)\n",
    "    xvals = np.linspace(-1, 50, size)\n",
    "    t1 = time.time()\n",
    "    hunt(6.6, bignodes, 3)\n",
    "\n",
    "    t2 = time.time()\n",
    "\n",
    "    print(' {} seconds'.format(t2 - t1))\n",
    "\n",
    "\n",
    "    #comapred the speed\n",
    "    t1 = time.time()\n",
    "    M = len(xvals)\n",
    "    ans1 = np.zeros(M, dtype = np.int64)\n",
    "\n",
    "    for ix, x in enumerate(xvals):\n",
    "        ans1[ix] = locate(x, bignodes)\n",
    "\n",
    "    t2 = time.time()\n",
    "\n",
    "    print(' {} seconds'.format(t2 - t1))\n",
    "    \n",
    "    \n",
    "    \n",
    "    t1 = time.time()\n",
    "    M = len(xvals)\n",
    "    ans2 = np.zeros(M, dtype = np.int64)\n",
    "\n",
    "    ans2[0] = hunt(x, bignodes, 0)\n",
    "    for ix in range(M):\n",
    "        x = xvals[ix]\n",
    "        ans2[ix] = hunt(x, bignodes, ans2[ix-1]+1)\n",
    "\n",
    "    t2 = time.time()\n",
    "\n",
    "    print(' {} seconds'.format(t2 - t1))\n",
    "    \n",
    "    \n",
    "    #comapred the speed\n",
    "    t1 = time.time()\n",
    "\n",
    "    ans3 = locate_grid(xvals, bignodes)\n",
    "\n",
    "    t2 = time.time()\n",
    "\n",
    "    print(' {} seconds'.format(t2 - t1))\n"
   ]
  },
  {
   "cell_type": "code",
   "execution_count": 12,
   "metadata": {},
   "outputs": [
    {
     "ename": "SyntaxError",
     "evalue": "invalid syntax (<ipython-input-12-369b74163d9d>, line 1)",
     "output_type": "error",
     "traceback": [
      "\u001b[0;36m  File \u001b[0;32m\"<ipython-input-12-369b74163d9d>\"\u001b[0;36m, line \u001b[0;32m1\u001b[0m\n\u001b[0;31m    6.9141387939453125e-06 seconds\u001b[0m\n\u001b[0m                                 ^\u001b[0m\n\u001b[0;31mSyntaxError\u001b[0m\u001b[0;31m:\u001b[0m invalid syntax\n"
     ]
    }
   ],
   "source": [
    " 8.106231689453125e-06 seconds\n",
    " 0.09943079948425293 seconds\n",
    " 0.11290311813354492 seconds\n",
    " 0.001589059829711914 seconds"
   ]
  },
  {
   "cell_type": "code",
   "execution_count": 14,
   "metadata": {},
   "outputs": [
    {
     "data": {
      "text/plain": [
       "array([ 8181,  8182,  8182, ..., 54543, 54544, 54544])"
      ]
     },
     "execution_count": 14,
     "metadata": {},
     "output_type": "execute_result"
    }
   ],
   "source": [
    "locate_grid(xvals, bignodes)"
   ]
  },
  {
   "cell_type": "code",
   "execution_count": 15,
   "metadata": {},
   "outputs": [
    {
     "data": {
      "text/plain": [
       "array([ 8181,  8182,  8182, ..., 54543, 54544, 54544])"
      ]
     },
     "execution_count": 15,
     "metadata": {},
     "output_type": "execute_result"
    }
   ],
   "source": [
    "locate_grid(xvals, bignodes)"
   ]
  },
  {
   "cell_type": "code",
   "execution_count": 8,
   "metadata": {},
   "outputs": [
    {
     "data": {
      "text/plain": [
       "array([ 81,  82,  82,  83,  83,  84,  84,  84,  85,  85,  86,  86,  87,\n",
       "        87,  88,  88,  89,  89,  90,  90,  91,  91,  91,  92,  92,  93,\n",
       "        93,  94,  94,  95,  95,  96,  96,  97,  97,  97,  98,  98,  99,\n",
       "        99, 100, 100, 101, 101, 102, 102, 103, 103, 103, 104, 104, 105,\n",
       "       105, 106, 106, 107, 107, 108, 108, 109, 109, 110, 110, 110, 111,\n",
       "       111, 112, 112, 113, 113, 114, 114, 115, 115, 116, 116, 116, 117,\n",
       "       117, 118, 118, 119, 119, 120, 120, 121, 121, 122, 122, 122, 123,\n",
       "       123, 124, 124, 125, 125, 126, 126, 127, 127, 128, 128, 129, 129,\n",
       "       129, 130, 130, 131, 131, 132, 132, 133, 133, 134, 134, 135, 135,\n",
       "       135, 136, 136, 137, 137, 138, 138, 139, 139, 140, 140, 141, 141,\n",
       "       142, 142, 142, 143, 143, 144, 144, 145, 145, 146, 146, 147, 147,\n",
       "       148, 148, 148, 149, 149, 150, 150, 151, 151, 152, 152, 153, 153,\n",
       "       154, 154, 154, 155, 155, 156, 156, 157, 157, 158, 158, 159, 159,\n",
       "       160, 160, 161, 161, 161, 162, 162, 163, 163, 164, 164, 165, 165,\n",
       "       166, 166, 167, 167, 167, 168, 168, 169, 169, 170, 170, 171, 171,\n",
       "       172, 172, 173, 173, 173, 174, 174, 175, 175, 176, 176, 177, 177,\n",
       "       178, 178, 179, 179, 180, 180, 180, 181, 181, 182, 182, 183, 183,\n",
       "       184, 184, 185, 185, 186, 186, 186, 187, 187, 188, 188, 189, 189,\n",
       "       190, 190, 191, 191, 192, 192, 193, 193, 193, 194, 194, 195, 195,\n",
       "       196, 196, 197, 197, 198, 198, 199, 199, 199, 200, 200, 201, 201,\n",
       "       202, 202, 203, 203, 204, 204, 205, 205, 205, 206, 206, 207, 207,\n",
       "       208, 208, 209, 209, 210, 210, 211, 211, 212, 212, 212, 213, 213,\n",
       "       214, 214, 215, 215, 216, 216, 217, 217, 218, 218, 218, 219, 219,\n",
       "       220, 220, 221, 221, 222, 222, 223, 223, 224, 224, 224, 225, 225,\n",
       "       226, 226, 227, 227, 228, 228, 229, 229, 230, 230, 231, 231, 231,\n",
       "       232, 232, 233, 233, 234, 234, 235, 235, 236, 236, 237, 237, 237,\n",
       "       238, 238, 239, 239, 240, 240, 241, 241, 242, 242, 243, 243, 244,\n",
       "       244, 244, 245, 245, 246, 246, 247, 247, 248, 248, 249, 249, 250,\n",
       "       250, 250, 251, 251, 252, 252, 253, 253, 254, 254, 255, 255, 256,\n",
       "       256, 256, 257, 257, 258, 258, 259, 259, 260, 260, 261, 261, 262,\n",
       "       262, 263, 263, 263, 264, 264, 265, 265, 266, 266, 267, 267, 268,\n",
       "       268, 269, 269, 269, 270, 270, 271, 271, 272, 272, 273, 273, 274,\n",
       "       274, 275, 275, 275, 276, 276, 277, 277, 278, 278, 279, 279, 280,\n",
       "       280, 281, 281, 282, 282, 282, 283, 283, 284, 284, 285, 285, 286,\n",
       "       286, 287, 287, 288, 288, 288, 289, 289, 290, 290, 291, 291, 292,\n",
       "       292, 293, 293, 294, 294, 295, 295, 295, 296, 296, 297, 297, 298,\n",
       "       298, 299, 299, 300, 300, 301, 301, 301, 302, 302, 303, 303, 304,\n",
       "       304, 305, 305, 306, 306, 307, 307, 307, 308, 308, 309, 309, 310,\n",
       "       310, 311, 311, 312, 312, 313, 313, 314, 314, 314, 315, 315, 316,\n",
       "       316, 317, 317, 318, 318, 319, 319, 320, 320, 320, 321, 321, 322,\n",
       "       322, 323, 323, 324, 324, 325, 325, 326, 326, 327, 327, 327, 328,\n",
       "       328, 329, 329, 330, 330, 331, 331, 332, 332, 333, 333, 333, 334,\n",
       "       334, 335, 335, 336, 336, 337, 337, 338, 338, 339, 339, 339, 340,\n",
       "       340, 341, 341, 342, 342, 343, 343, 344, 344, 345, 345, 346, 346,\n",
       "       346, 347, 347, 348, 348, 349, 349, 350, 350, 351, 351, 352, 352,\n",
       "       352, 353, 353, 354, 354, 355, 355, 356, 356, 357, 357, 358, 358,\n",
       "       358, 359, 359, 360, 360, 361, 361, 362, 362, 363, 363, 364, 364,\n",
       "       365, 365, 365, 366, 366, 367, 367, 368, 368, 369, 369, 370, 370,\n",
       "       371, 371, 371, 372, 372, 373, 373, 374, 374, 375, 375, 376, 376,\n",
       "       377, 377, 377, 378, 378, 379, 379, 380, 380, 381, 381, 382, 382,\n",
       "       383, 383, 384, 384, 384, 385, 385, 386, 386, 387, 387, 388, 388,\n",
       "       389, 389, 390, 390, 390, 391, 391, 392, 392, 393, 393, 394, 394,\n",
       "       395, 395, 396, 396, 397, 397, 397, 398, 398, 399, 399, 400, 400,\n",
       "       401, 401, 402, 402, 403, 403, 403, 404, 404, 405, 405, 406, 406,\n",
       "       407, 407, 408, 408, 409, 409, 409, 410, 410, 411, 411, 412, 412,\n",
       "       413, 413, 414, 414, 415, 415, 416, 416, 416, 417, 417, 418, 418,\n",
       "       419, 419, 420, 420, 421, 421, 422, 422, 422, 423, 423, 424, 424,\n",
       "       425, 425, 426, 426, 427, 427, 428, 428, 428, 429, 429, 430, 430,\n",
       "       431, 431, 432, 432, 433, 433, 434, 434, 435, 435, 435, 436, 436,\n",
       "       437, 437, 438, 438, 439, 439, 440, 440, 441, 441, 441, 442, 442,\n",
       "       443, 443, 444, 444, 445, 445, 446, 446, 447, 447, 448, 448, 448,\n",
       "       449, 449, 450, 450, 451, 451, 452, 452, 453, 453, 454, 454, 454,\n",
       "       455, 455, 456, 456, 457, 457, 458, 458, 459, 459, 460, 460, 460,\n",
       "       461, 461, 462, 462, 463, 463, 464, 464, 465, 465, 466, 466, 467,\n",
       "       467, 467, 468, 468, 469, 469, 470, 470, 471, 471, 472, 472, 473,\n",
       "       473, 473, 474, 474, 475, 475, 476, 476, 477, 477, 478, 478, 479,\n",
       "       479, 479, 480, 480, 481, 481, 482, 482, 483, 483, 484, 484, 485,\n",
       "       485, 486, 486, 486, 487, 487, 488, 488, 489, 489, 490, 490, 491,\n",
       "       491, 492, 492, 492, 493, 493, 494, 494, 495, 495, 496, 496, 497,\n",
       "       497, 498, 498, 499, 499, 499, 500, 500, 501, 501, 502, 502, 503,\n",
       "       503, 504, 504, 505, 505, 505, 506, 506, 507, 507, 508, 508, 509,\n",
       "       509, 510, 510, 511, 511, 511, 512, 512, 513, 513, 514, 514, 515,\n",
       "       515, 516, 516, 517, 517, 518, 518, 518, 519, 519, 520, 520, 521,\n",
       "       521, 522, 522, 523, 523, 524, 524, 524, 525, 525, 526, 526, 527,\n",
       "       527, 528, 528, 529, 529, 530, 530, 530, 531, 531, 532, 532, 533,\n",
       "       533, 534, 534, 535, 535, 536, 536, 537, 537, 537, 538, 538, 539,\n",
       "       539, 540, 540, 541, 541, 542, 542, 543, 543, 543, 544, 544])"
      ]
     },
     "execution_count": 8,
     "metadata": {},
     "output_type": "execute_result"
    }
   ],
   "source": [
    "locate_grid(xvals[::-1], bignodes)[::-1]"
   ]
  },
  {
   "cell_type": "code",
   "execution_count": null,
   "metadata": {},
   "outputs": [],
   "source": []
  }
 ],
 "metadata": {
  "kernelspec": {
   "display_name": "Python 3",
   "language": "python",
   "name": "python3"
  },
  "language_info": {
   "codemirror_mode": {
    "name": "ipython",
    "version": 3
   },
   "file_extension": ".py",
   "mimetype": "text/x-python",
   "name": "python",
   "nbconvert_exporter": "python",
   "pygments_lexer": "ipython3",
   "version": "3.6.6"
  }
 },
 "nbformat": 4,
 "nbformat_minor": 1
}
